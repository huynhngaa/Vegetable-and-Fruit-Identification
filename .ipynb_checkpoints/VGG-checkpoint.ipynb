{
 "cells": [
  {
   "cell_type": "code",
   "execution_count": 1,
   "id": "17ad9702",
   "metadata": {},
   "outputs": [],
   "source": [
    "from tensorflow.keras.layers import Input, Dense, Flatten\n",
    "from tensorflow.keras import Model\n",
    "from tensorflow.keras.applications.vgg16 import VGG16\n",
    "from tensorflow.keras.preprocessing import image\n",
    "from tensorflow.keras.models import Sequential\n",
    "import numpy as np\n",
    "import pandas as pd\n",
    "import tensorflow as tf\n",
    "from tensorflow import keras"
   ]
  },
  {
   "cell_type": "code",
   "execution_count": 2,
   "id": "5f78f61d",
   "metadata": {},
   "outputs": [],
   "source": [
    "image_size = [224, 224]"
   ]
  },
  {
   "cell_type": "code",
   "execution_count": 3,
   "id": "30a7a08a",
   "metadata": {},
   "outputs": [],
   "source": [
    "vgg = VGG16(input_shape = image_size + [3], weights = 'imagenet', include_top =  False)"
   ]
  },
  {
   "cell_type": "code",
   "execution_count": 4,
   "id": "02a4be39",
   "metadata": {},
   "outputs": [],
   "source": [
    "for layer in vgg.layers:\n",
    "    layer.trainable = False"
   ]
  },
  {
   "cell_type": "code",
   "execution_count": 5,
   "id": "563b7197",
   "metadata": {},
   "outputs": [],
   "source": [
    "from glob import glob\n",
    "folders = glob('hinh/train/*')"
   ]
  },
  {
   "cell_type": "code",
   "execution_count": 6,
   "id": "480b3148",
   "metadata": {},
   "outputs": [
    {
     "data": {
      "text/plain": [
       "['hinh/train\\\\apple',\n",
       " 'hinh/train\\\\banana',\n",
       " 'hinh/train\\\\beetroot',\n",
       " 'hinh/train\\\\bell pepper',\n",
       " 'hinh/train\\\\cabbage',\n",
       " 'hinh/train\\\\capsicum',\n",
       " 'hinh/train\\\\carrot',\n",
       " 'hinh/train\\\\cauliflower',\n",
       " 'hinh/train\\\\chilli pepper',\n",
       " 'hinh/train\\\\corn',\n",
       " 'hinh/train\\\\cucumber',\n",
       " 'hinh/train\\\\eggplant',\n",
       " 'hinh/train\\\\garlic',\n",
       " 'hinh/train\\\\ginger',\n",
       " 'hinh/train\\\\grapes',\n",
       " 'hinh/train\\\\jalepeno',\n",
       " 'hinh/train\\\\kiwi',\n",
       " 'hinh/train\\\\lemon',\n",
       " 'hinh/train\\\\lettuce',\n",
       " 'hinh/train\\\\mango',\n",
       " 'hinh/train\\\\onion',\n",
       " 'hinh/train\\\\orange',\n",
       " 'hinh/train\\\\paprika',\n",
       " 'hinh/train\\\\pear',\n",
       " 'hinh/train\\\\peas',\n",
       " 'hinh/train\\\\pineapple',\n",
       " 'hinh/train\\\\pomegranate',\n",
       " 'hinh/train\\\\potato',\n",
       " 'hinh/train\\\\raddish',\n",
       " 'hinh/train\\\\soy beans',\n",
       " 'hinh/train\\\\spinach',\n",
       " 'hinh/train\\\\sweetcorn',\n",
       " 'hinh/train\\\\sweetpotato',\n",
       " 'hinh/train\\\\tomato',\n",
       " 'hinh/train\\\\turnip',\n",
       " 'hinh/train\\\\watermelon']"
      ]
     },
     "execution_count": 6,
     "metadata": {},
     "output_type": "execute_result"
    }
   ],
   "source": [
    "folders"
   ]
  },
  {
   "cell_type": "code",
   "execution_count": 7,
   "id": "77bc8365",
   "metadata": {},
   "outputs": [],
   "source": [
    "x = Flatten()(vgg.output)"
   ]
  },
  {
   "cell_type": "code",
   "execution_count": 8,
   "id": "d244613c",
   "metadata": {},
   "outputs": [],
   "source": [
    "prediction = Dense(len(folders), activation = 'softmax')(x)"
   ]
  },
  {
   "cell_type": "code",
   "execution_count": 9,
   "id": "d70edda1",
   "metadata": {},
   "outputs": [],
   "source": [
    "model = Model(inputs = vgg.input, outputs = prediction)"
   ]
  },
  {
   "cell_type": "code",
   "execution_count": 10,
   "id": "6cfcb025",
   "metadata": {},
   "outputs": [
    {
     "name": "stdout",
     "output_type": "stream",
     "text": [
      "Model: \"model\"\n",
      "_________________________________________________________________\n",
      " Layer (type)                Output Shape              Param #   \n",
      "=================================================================\n",
      " input_1 (InputLayer)        [(None, 224, 224, 3)]     0         \n",
      "                                                                 \n",
      " block1_conv1 (Conv2D)       (None, 224, 224, 64)      1792      \n",
      "                                                                 \n",
      " block1_conv2 (Conv2D)       (None, 224, 224, 64)      36928     \n",
      "                                                                 \n",
      " block1_pool (MaxPooling2D)  (None, 112, 112, 64)      0         \n",
      "                                                                 \n",
      " block2_conv1 (Conv2D)       (None, 112, 112, 128)     73856     \n",
      "                                                                 \n",
      " block2_conv2 (Conv2D)       (None, 112, 112, 128)     147584    \n",
      "                                                                 \n",
      " block2_pool (MaxPooling2D)  (None, 56, 56, 128)       0         \n",
      "                                                                 \n",
      " block3_conv1 (Conv2D)       (None, 56, 56, 256)       295168    \n",
      "                                                                 \n",
      " block3_conv2 (Conv2D)       (None, 56, 56, 256)       590080    \n",
      "                                                                 \n",
      " block3_conv3 (Conv2D)       (None, 56, 56, 256)       590080    \n",
      "                                                                 \n",
      " block3_pool (MaxPooling2D)  (None, 28, 28, 256)       0         \n",
      "                                                                 \n",
      " block4_conv1 (Conv2D)       (None, 28, 28, 512)       1180160   \n",
      "                                                                 \n",
      " block4_conv2 (Conv2D)       (None, 28, 28, 512)       2359808   \n",
      "                                                                 \n",
      " block4_conv3 (Conv2D)       (None, 28, 28, 512)       2359808   \n",
      "                                                                 \n",
      " block4_pool (MaxPooling2D)  (None, 14, 14, 512)       0         \n",
      "                                                                 \n",
      " block5_conv1 (Conv2D)       (None, 14, 14, 512)       2359808   \n",
      "                                                                 \n",
      " block5_conv2 (Conv2D)       (None, 14, 14, 512)       2359808   \n",
      "                                                                 \n",
      " block5_conv3 (Conv2D)       (None, 14, 14, 512)       2359808   \n",
      "                                                                 \n",
      " block5_pool (MaxPooling2D)  (None, 7, 7, 512)         0         \n",
      "                                                                 \n",
      " flatten (Flatten)           (None, 25088)             0         \n",
      "                                                                 \n",
      " dense (Dense)               (None, 36)                903204    \n",
      "                                                                 \n",
      "=================================================================\n",
      "Total params: 15,617,892\n",
      "Trainable params: 903,204\n",
      "Non-trainable params: 14,714,688\n",
      "_________________________________________________________________\n"
     ]
    }
   ],
   "source": [
    "model.summary()"
   ]
  },
  {
   "cell_type": "code",
   "execution_count": 11,
   "id": "1c6cf79f",
   "metadata": {},
   "outputs": [],
   "source": [
    "model.compile(loss = 'categorical_crossentropy', optimizer = 'adam', metrics = ['accuracy'])"
   ]
  },
  {
   "cell_type": "code",
   "execution_count": 12,
   "id": "32713bf5",
   "metadata": {},
   "outputs": [],
   "source": [
    "from tensorflow.keras.preprocessing.image import ImageDataGenerator"
   ]
  },
  {
   "cell_type": "code",
   "execution_count": 13,
   "id": "f2ca0a7e",
   "metadata": {},
   "outputs": [],
   "source": [
    "train_data_gen = ImageDataGenerator(rescale = 1./255, shear_range = 0.2, zoom_range = 0.2, horizontal_flip = True)"
   ]
  },
  {
   "cell_type": "code",
   "execution_count": 14,
   "id": "7777f274",
   "metadata": {},
   "outputs": [],
   "source": [
    "test_data_gen = ImageDataGenerator(rescale = 1./255)"
   ]
  },
  {
   "cell_type": "code",
   "execution_count": 15,
   "id": "680f7e56",
   "metadata": {},
   "outputs": [
    {
     "name": "stdout",
     "output_type": "stream",
     "text": [
      "Found 3077 images belonging to 36 classes.\n"
     ]
    }
   ],
   "source": [
    "train_set = train_data_gen.flow_from_directory('hinh/train/', target_size = (224,224), batch_size = 32, class_mode = 'categorical')"
   ]
  },
  {
   "cell_type": "code",
   "execution_count": 17,
   "id": "2012d2b3",
   "metadata": {},
   "outputs": [
    {
     "name": "stdout",
     "output_type": "stream",
     "text": [
      "Found 351 images belonging to 36 classes.\n"
     ]
    }
   ],
   "source": [
    "test_set = test_data_gen.flow_from_directory('hinh/validation/', target_size = (224,224), batch_size = 32, class_mode = 'categorical')"
   ]
  },
  {
   "cell_type": "code",
   "execution_count": 18,
   "id": "e623dadd",
   "metadata": {},
   "outputs": [],
   "source": [
    "checkpoint_callback = tf.keras.callbacks.ModelCheckpoint(\"vgg16.h5\", save_best_only=True)\n",
    "\n",
    "early_stopping_callback = tf.keras.callbacks.EarlyStopping(\n",
    "    monitor=\"val_loss\",patience=5, restore_best_weights=True\n",
    ")"
   ]
  },
  {
   "cell_type": "code",
   "execution_count": null,
   "id": "2d211583",
   "metadata": {},
   "outputs": [
    {
     "name": "stdout",
     "output_type": "stream",
     "text": [
      "Epoch 1/100\n"
     ]
    },
    {
     "name": "stderr",
     "output_type": "stream",
     "text": [
      "C:\\Users\\OS\\anaconda3\\envs\\NLN\\Lib\\site-packages\\PIL\\Image.py:996: UserWarning: Palette images with Transparency expressed in bytes should be converted to RGBA images\n",
      "  warnings.warn(\n"
     ]
    },
    {
     "name": "stdout",
     "output_type": "stream",
     "text": [
      "97/97 [==============================] - 712s 7s/step - loss: 2.5787 - accuracy: 0.3809 - val_loss: 0.7825 - val_accuracy: 0.8091\n",
      "Epoch 2/100\n",
      "97/97 [==============================] - 880s 9s/step - loss: 1.2606 - accuracy: 0.6539 - val_loss: 0.5751 - val_accuracy: 0.8405\n",
      "Epoch 3/100\n",
      "97/97 [==============================] - 2207s 23s/step - loss: 0.7476 - accuracy: 0.7962 - val_loss: 0.3483 - val_accuracy: 0.8946\n",
      "Epoch 4/100\n",
      "97/97 [==============================] - 1091s 11s/step - loss: 0.5350 - accuracy: 0.8482 - val_loss: 0.3391 - val_accuracy: 0.8946\n",
      "Epoch 5/100\n",
      "97/97 [==============================] - 12460s 130s/step - loss: 0.4221 - accuracy: 0.8671 - val_loss: 0.2449 - val_accuracy: 0.9430\n",
      "Epoch 6/100\n",
      "97/97 [==============================] - 1022s 11s/step - loss: 0.3580 - accuracy: 0.8963 - val_loss: 0.2110 - val_accuracy: 0.9345\n",
      "Epoch 7/100\n",
      "35/97 [=========>....................] - ETA: 7:35 - loss: 0.2116 - accuracy: 0.9438"
     ]
    }
   ],
   "source": [
    "mod = model.fit(train_set, epochs=100, validation_data=test_set,callbacks=[checkpoint_callback,early_stopping_callback])"
   ]
  },
  {
   "cell_type": "code",
   "execution_count": 19,
   "id": "4046e30e",
   "metadata": {},
   "outputs": [
    {
     "data": {
      "image/png": "[encoded data removed]",
      "text/plain": [
       "<Figure size 640x480 with 1 Axes>"
      ]
     },
     "metadata": {},
     "output_type": "display_data"
    }
   ],
   "source": [
    "import matplotlib.pyplot as plt\n",
    "plt.plot(mod.history['loss'], label='train loss')\n",
    "plt.plot(mod.history['val_loss'], label='val loss')\n",
    "plt.legend()\n",
    "plt.show()"
   ]
  },
  {
   "cell_type": "code",
   "execution_count": 20,
   "id": "0908ac7e",
   "metadata": {},
   "outputs": [
    {
     "data": {
      "image/png": "[encoded data removed]",
      "text/plain": [
       "<Figure size 640x480 with 1 Axes>"
      ]
     },
     "metadata": {},
     "output_type": "display_data"
    }
   ],
   "source": [
    "plt.plot(mod.history['accuracy'], label='train accuracy')\n",
    "plt.plot(mod.history['val_accuracy'], label='val_accuracy')\n",
    "plt.legend()\n",
    "plt.show()"
   ]
  },
  {
   "cell_type": "code",
   "execution_count": 21,
   "id": "a8fe5af9",
   "metadata": {},
   "outputs": [],
   "source": [
    "# save it as a h5 file\n",
    "from tensorflow.keras.models import load_model\n",
    "model.save('vgg16.h5')"
   ]
  },
  {
   "cell_type": "code",
   "execution_count": 26,
   "id": "6ab583ea",
   "metadata": {},
   "outputs": [
    {
     "name": "stdout",
     "output_type": "stream",
     "text": [
      "Found 359 images belonging to 36 classes.\n"
     ]
    }
   ],
   "source": [
    "test_ds = test_data_gen.flow_from_directory('hinh/test/', target_size = (224,224), batch_size = 32, class_mode = 'categorical')"
   ]
  },
  {
   "cell_type": "code",
   "execution_count": 27,
   "id": "81bfec76",
   "metadata": {},
   "outputs": [],
   "source": [
    "def testAccuracy(model):\n",
    "    true_categories = tf.concat([y for x, y in test_ds], axis=0)\n",
    "    images = tf.concat([x for x, y in test_ds], axis=0)\n",
    "    y_pred = model.predict(test_ds)\n",
    "    class_names = test_data.class_names\n",
    "    predicted_categories = tf.argmax(y_pred, axis=1)\n",
    "    test_acc = metrics.accuracy_score(true_categories, predicted_categories) * 100\n",
    "    print(f'\\nTest Accuracy: {test_acc:.2f}%\\n')"
   ]
  },
  {
   "cell_type": "code",
   "execution_count": 28,
   "id": "a3dc8b53",
   "metadata": {},
   "outputs": [
    {
     "name": "stderr",
     "output_type": "stream",
     "text": [
      "\n",
      "KeyboardInterrupt\n",
      "\n"
     ]
    }
   ],
   "source": [
    " testAccuracy(model)"
   ]
  },
  {
   "cell_type": "code",
   "execution_count": null,
   "id": "5402d129",
   "metadata": {},
   "outputs": [],
   "source": [
    "def ConfusionMatrix(model, ds, label_list):\n",
    "# Note: This logic doesn't work with shuffled datasets\n",
    "    plt.figure(figsize=(15,10))\n",
    "    y_pred = model.predict(ds)\n",
    "    predicted_categories = tf.argmax(y_pred, axis=1)\n",
    "    true_categories = tf.concat([y for x, y in ds], axis=0)\n",
    "    cm = metrics.confusion_matrix(true_categories,predicted_categories) # last batch \n",
    "    sns.heatmap(cm, annot=True, xticklabels=label_list, yticklabels=label_list, cmap=\"YlGnBu\", fmt='g')\n",
    "    plt.show()"
   ]
  },
  {
   "cell_type": "code",
   "execution_count": null,
   "id": "d6665e87",
   "metadata": {},
   "outputs": [],
   "source": [
    "ConfusionMatrix(model, test_ds, test_data.class_names)"
   ]
  }
 ],
 "metadata": {
  "kernelspec": {
   "display_name": "Python 3 (ipykernel)",
   "language": "python",
   "name": "python3"
  },
  "language_info": {
   "codemirror_mode": {
    "name": "ipython",
    "version": 3
   },
   "file_extension": ".py",
   "mimetype": "text/x-python",
   "name": "python",
   "nbconvert_exporter": "python",
   "pygments_lexer": "ipython3",
   "version": "3.11.2"
  }
 },
 "nbformat": 4,
 "nbformat_minor": 5
}
